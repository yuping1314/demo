{
 "cells": [
  {
   "cell_type": "code",
   "execution_count": 16,
   "id": "3dfc9628",
   "metadata": {
    "ExecuteTime": {
     "end_time": "2023-04-23T15:00:42.467351Z",
     "start_time": "2023-04-23T15:00:42.461822Z"
    }
   },
   "outputs": [],
   "source": [
    "import pandas as pd \n",
    "import warnings\n",
    "\n",
    "warnings.filterwarnings('ignore')"
   ]
  },
  {
   "cell_type": "code",
   "execution_count": 17,
   "id": "8233a8dc",
   "metadata": {
    "ExecuteTime": {
     "end_time": "2023-04-23T15:01:19.219105Z",
     "start_time": "2023-04-23T15:00:42.469346Z"
    }
   },
   "outputs": [],
   "source": [
    "path = 'H:/yuping/物流查询/付款订单订单.xlsx'\n",
    "df_data = pd.read_excel(path, usecols=['快递公司', '快递单号','状态'])"
   ]
  },
  {
   "cell_type": "code",
   "execution_count": 18,
   "id": "90f03278",
   "metadata": {
    "ExecuteTime": {
     "end_time": "2023-04-23T15:01:19.280766Z",
     "start_time": "2023-04-23T15:01:19.221006Z"
    }
   },
   "outputs": [],
   "source": [
    "df_data = df_data[df_data['快递公司'] != '无需物流']\n",
    "df_data = df_data[~df_data['状态'].isin(['被拆分','被合并','取消'])]\n",
    "df_data = df_data[pd.notna(df_data['快递公司']) & pd.notna(df_data['快递单号'])]"
   ]
  },
  {
   "cell_type": "code",
   "execution_count": 19,
   "id": "06e55371",
   "metadata": {
    "ExecuteTime": {
     "end_time": "2023-04-23T15:01:19.296055Z",
     "start_time": "2023-04-23T15:01:19.282662Z"
    }
   },
   "outputs": [
    {
     "data": {
      "text/html": [
       "<div>\n",
       "<style scoped>\n",
       "    .dataframe tbody tr th:only-of-type {\n",
       "        vertical-align: middle;\n",
       "    }\n",
       "\n",
       "    .dataframe tbody tr th {\n",
       "        vertical-align: top;\n",
       "    }\n",
       "\n",
       "    .dataframe thead th {\n",
       "        text-align: right;\n",
       "    }\n",
       "</style>\n",
       "<table border=\"1\" class=\"dataframe\">\n",
       "  <thead>\n",
       "    <tr style=\"text-align: right;\">\n",
       "      <th></th>\n",
       "      <th>状态</th>\n",
       "      <th>快递公司</th>\n",
       "      <th>快递单号</th>\n",
       "    </tr>\n",
       "  </thead>\n",
       "  <tbody>\n",
       "    <tr>\n",
       "      <th>81</th>\n",
       "      <td>已发货</td>\n",
       "      <td>江苏中通-东台仓</td>\n",
       "      <td>78676797502696</td>\n",
       "    </tr>\n",
       "    <tr>\n",
       "      <th>82</th>\n",
       "      <td>已发货</td>\n",
       "      <td>江苏中通-东台仓</td>\n",
       "      <td>78676797502688</td>\n",
       "    </tr>\n",
       "    <tr>\n",
       "      <th>83</th>\n",
       "      <td>已发货</td>\n",
       "      <td>阿武韵达</td>\n",
       "      <td>433176881393430</td>\n",
       "    </tr>\n",
       "    <tr>\n",
       "      <th>84</th>\n",
       "      <td>已发货</td>\n",
       "      <td>邮政快递包裹</td>\n",
       "      <td>9870926589123</td>\n",
       "    </tr>\n",
       "    <tr>\n",
       "      <th>85</th>\n",
       "      <td>已发货</td>\n",
       "      <td>江苏中通-东台仓</td>\n",
       "      <td>78676774862454</td>\n",
       "    </tr>\n",
       "  </tbody>\n",
       "</table>\n",
       "</div>"
      ],
      "text/plain": [
       "     状态      快递公司             快递单号\n",
       "81  已发货  江苏中通-东台仓   78676797502696\n",
       "82  已发货  江苏中通-东台仓   78676797502688\n",
       "83  已发货      阿武韵达  433176881393430\n",
       "84  已发货    邮政快递包裹    9870926589123\n",
       "85  已发货  江苏中通-东台仓   78676774862454"
      ]
     },
     "execution_count": 19,
     "metadata": {},
     "output_type": "execute_result"
    }
   ],
   "source": [
    "df_data.head()  "
   ]
  },
  {
   "cell_type": "code",
   "execution_count": 20,
   "id": "d7052a0e",
   "metadata": {
    "ExecuteTime": {
     "end_time": "2023-04-23T15:01:19.438773Z",
     "start_time": "2023-04-23T15:01:19.298040Z"
    }
   },
   "outputs": [],
   "source": [
    "    def _clean_same_data(df):\n",
    "        df.loc[df['快递公司'].str.contains('EMS'), '快递公司'] = 'ems'\n",
    "        df.loc[df['快递公司'].str.contains('邮政'), '快递公司'] = '邮政'\n",
    "        df.loc[df['快递公司'].str.contains('百世'), '快递公司'] = '百世'\n",
    "        df.loc[df['快递公司'].str.contains('韵达'), '快递公司'] = '韵达'\n",
    "        df.loc[df['快递公司'].str.contains('圆通'), '快递公司'] = '圆通'\n",
    "        df.loc[df['快递公司'].str.contains('申通'), '快递公司'] = '申通'\n",
    "        df.loc[df['快递公司'].str.contains('中通'), '快递公司'] = '中通'\n",
    "        df.loc[df['快递公司'].str.contains('极兔'), '快递公司'] = '极兔'\n",
    "        df.loc[df['快递公司'].str.contains('京东'), '快递公司'] = '京东' \n",
    "        df.loc[df['快递公司'].str.contains('壹米滴答'), '快递公司'] = '壹米滴答'\n",
    "        df.loc[df['快递公司'].str.contains('中铁快运'), '快递公司'] = '中铁快运'\n",
    "        df.loc[df['快递公司'].str.contains('安能物流'), '快递公司'] = '安能物流'\n",
    "        df.loc[df['快递公司'].str.contains('丰网'), '快递公司'] = '丰网'\n",
    "        \n",
    "\n",
    "        df['快递单号'].replace(to_replace='@', value='', inplace=True, regex=True)  \n",
    "        df['status']=0\n",
    "        df = df.apply(lambda x: x.fillna(0) if x.dtype.kind in 'fi' else x.fillna('') if x.dtype.kind in 'O' else x)\n",
    "        return df "
   ]
  },
  {
   "cell_type": "code",
   "execution_count": 21,
   "id": "67df8303",
   "metadata": {
    "ExecuteTime": {
     "end_time": "2023-04-23T15:01:19.949368Z",
     "start_time": "2023-04-23T15:01:19.445272Z"
    }
   },
   "outputs": [],
   "source": [
    "df_clean = _clean_same_data(df_data)\n",
    "df_clean = df_clean[['快递公司','快递单号']]"
   ]
  },
  {
   "cell_type": "code",
   "execution_count": 24,
   "id": "84def3c4",
   "metadata": {
    "ExecuteTime": {
     "end_time": "2023-04-23T15:10:14.085597Z",
     "start_time": "2023-04-23T15:10:14.058621Z"
    }
   },
   "outputs": [
    {
     "data": {
      "text/html": [
       "<div>\n",
       "<style scoped>\n",
       "    .dataframe tbody tr th:only-of-type {\n",
       "        vertical-align: middle;\n",
       "    }\n",
       "\n",
       "    .dataframe tbody tr th {\n",
       "        vertical-align: top;\n",
       "    }\n",
       "\n",
       "    .dataframe thead th {\n",
       "        text-align: right;\n",
       "    }\n",
       "</style>\n",
       "<table border=\"1\" class=\"dataframe\">\n",
       "  <thead>\n",
       "    <tr style=\"text-align: right;\">\n",
       "      <th></th>\n",
       "      <th>快递公司</th>\n",
       "      <th>快递单号</th>\n",
       "    </tr>\n",
       "  </thead>\n",
       "  <tbody>\n",
       "    <tr>\n",
       "      <th>38550</th>\n",
       "      <td>安能物流</td>\n",
       "      <td>300533774687</td>\n",
       "    </tr>\n",
       "    <tr>\n",
       "      <th>38551</th>\n",
       "      <td>安能物流</td>\n",
       "      <td>300533774687</td>\n",
       "    </tr>\n",
       "    <tr>\n",
       "      <th>38552</th>\n",
       "      <td>安能物流</td>\n",
       "      <td>300533774687</td>\n",
       "    </tr>\n",
       "    <tr>\n",
       "      <th>38553</th>\n",
       "      <td>安能物流</td>\n",
       "      <td>300533774687</td>\n",
       "    </tr>\n",
       "    <tr>\n",
       "      <th>38554</th>\n",
       "      <td>安能物流</td>\n",
       "      <td>300533774687</td>\n",
       "    </tr>\n",
       "  </tbody>\n",
       "</table>\n",
       "</div>"
      ],
      "text/plain": [
       "       快递公司          快递单号\n",
       "38550  安能物流  300533774687\n",
       "38551  安能物流  300533774687\n",
       "38552  安能物流  300533774687\n",
       "38553  安能物流  300533774687\n",
       "38554  安能物流  300533774687"
      ]
     },
     "execution_count": 24,
     "metadata": {},
     "output_type": "execute_result"
    }
   ],
   "source": [
    "df_clean[df_clean['快递公司'] == '安能物流']"
   ]
  },
  {
   "cell_type": "code",
   "execution_count": 26,
   "id": "97e45f66",
   "metadata": {
    "ExecuteTime": {
     "end_time": "2023-04-23T15:11:44.997257Z",
     "start_time": "2023-04-23T15:11:39.877460Z"
    }
   },
   "outputs": [
    {
     "name": "stdout",
     "output_type": "stream",
     "text": [
      "中通 38512\n",
      "1\n",
      "2\n",
      "3\n",
      "4\n",
      "5\n",
      "6\n",
      "7\n",
      "8\n",
      "9\n",
      "10\n",
      "韵达 1243\n",
      "1\n",
      "邮政 19877\n",
      "1\n",
      "2\n",
      "3\n",
      "4\n",
      "5\n",
      "申通 11330\n",
      "1\n",
      "2\n",
      "3\n",
      "极兔 1606\n",
      "1\n",
      "圆通 268\n",
      "1\n",
      "ems 30\n",
      "1\n",
      "丰网 3\n",
      "1\n",
      "安能物流 5\n",
      "1\n"
     ]
    }
   ],
   "source": [
    "# df_clean['快递公司'].unique()\n",
    "company = df_clean['快递公司'].unique()\n",
    "\n",
    "for name in company:\n",
    "    df = df_clean[df_clean['快递公司']== name]\n",
    "    n = 0 \n",
    "    rows = df.shape[0]\n",
    "    print(name, rows)\n",
    "    for i in range(0, rows, 4000):\n",
    "        j = i + 4000\n",
    "        df1 = df.iloc[i:j, :]\n",
    "        n = n+1\n",
    "        print(n)\n",
    "        df1.to_excel(f'H:/yuping/物流查询/待查询物流/{name}{n}.xlsx', index= False)    "
   ]
  },
  {
   "cell_type": "markdown",
   "id": "d3264f74",
   "metadata": {},
   "source": [
    "#### 数据存入数据库"
   ]
  },
  {
   "cell_type": "code",
   "execution_count": 29,
   "id": "a902e1b8",
   "metadata": {
    "ExecuteTime": {
     "end_time": "2023-04-23T15:45:24.349513Z",
     "start_time": "2023-04-23T15:45:24.339058Z"
    }
   },
   "outputs": [],
   "source": [
    "import os \n",
    "from sqlalchemy import create_engine"
   ]
  },
  {
   "cell_type": "code",
   "execution_count": 33,
   "id": "9e20ba91",
   "metadata": {
    "ExecuteTime": {
     "end_time": "2023-04-23T15:49:53.408989Z",
     "start_time": "2023-04-23T15:49:26.175394Z"
    }
   },
   "outputs": [
    {
     "name": "stdout",
     "output_type": "stream",
     "text": [
      "H:\\yuping\\物流查询\\合并数据\\任务名R230423_231490655_等4个任务_全部_1554条数据.xlsx\n",
      "H:\\yuping\\物流查询\\合并数据\\任务名R230423_231906950_等10个任务_全部_32275条数据.xlsx\n",
      "H:\\yuping\\物流查询\\合并数据\\任务名R230423_232530266_等10个任务_全部_37907条数据.xlsx\n",
      "(71736, 16)\n"
     ]
    },
    {
     "data": {
      "text/plain": [
       "(71735, 16)"
      ]
     },
     "execution_count": 33,
     "metadata": {},
     "output_type": "execute_result"
    }
   ],
   "source": [
    "data_list = []\n",
    "folder_path = r'H:\\yuping\\物流查询\\合并数据'\n",
    "\n",
    "for root, dirs, files in os.walk(folder_path):\n",
    "    for file in files:\n",
    "        \n",
    "        path = os.path.join(root, file)\n",
    "        print(path)\n",
    "        df = pd.read_excel(path)\n",
    "     \n",
    "        data_list.append(df)\n",
    "\n",
    "df_main = pd.concat(data_list)\n",
    "print(df_main.shape)\n",
    "\n",
    "df_main = df_main.drop_duplicates(subset=['快递单号', '快递公司'])\n",
    "df_main.shape "
   ]
  },
  {
   "cell_type": "code",
   "execution_count": 46,
   "id": "f02ecdb7",
   "metadata": {
    "ExecuteTime": {
     "end_time": "2023-04-23T16:33:41.038632Z",
     "start_time": "2023-04-23T16:33:40.902455Z"
    }
   },
   "outputs": [],
   "source": [
    "# del df_main['任务备注']\n",
    "# del df_main['订单编号']\n",
    "df_main = df_main.apply(lambda x: x.fillna(0) if x.dtype.kind in 'fi' else x.fillna('') if x.dtype.kind in 'O' else x)"
   ]
  },
  {
   "cell_type": "code",
   "execution_count": 47,
   "id": "56e11bb9",
   "metadata": {
    "ExecuteTime": {
     "end_time": "2023-04-23T16:38:12.315139Z",
     "start_time": "2023-04-23T16:33:51.248647Z"
    }
   },
   "outputs": [
    {
     "name": "stdout",
     "output_type": "stream",
     "text": [
      "清空当日插入数据~~~~\n",
      "执行成功！\n"
     ]
    }
   ],
   "source": [
    "import pymysql\n",
    "'''连接数据库'''\n",
    "conn = pymysql.connect(\n",
    "    user='fl_senhubi',\n",
    "    password='fl1886870',\n",
    "    host='222.188.126.45',\n",
    "    database='sh_data',\n",
    "    port=12306 )\n",
    "\n",
    "cur = conn.cursor()\n",
    "\n",
    "def data_storege(df_data, table_name):\n",
    "    '''数据存储数据库'''\n",
    "    \n",
    "    df_data = df_data.copy()\n",
    "    value_lists = [[None if pd.isna(y) else y for y in x] for x in df_data.values]\n",
    "    columns_str = ','.join(df_data.columns)\n",
    "    update_key = []\n",
    "    update_key.extend(df_data.columns)\n",
    "\n",
    "    s_count = '%s,' * len(df_data.columns)\n",
    "    update_dict = {key: 'values({key})'.format(key=key) for key in update_key}\n",
    "\n",
    "    update_list = [\"{key}={value}\".format(key=key, value=value) for key, value in update_dict.items()]\n",
    "\n",
    "    update_str = ','.join(update_list)\n",
    "    \n",
    "    sql_cmd = \"insert into {table}({keys}) values ({values}) on duplicate key update {update_str}\".format(\n",
    "        table=table_name, keys=columns_str, values=s_count[:-1], update_str=update_str)\n",
    "\n",
    "    try:\n",
    "        print('清空当日插入数据~~~~')\n",
    "        \n",
    "        sql_del = f'DELETE FROM {table_name} WHERE date(c_time)= CURRENT_DATE()'\n",
    "        cur.execute(sql_del)\n",
    "        conn.commit()\n",
    "    except Exception as e:\n",
    "        \n",
    "        print('插入数据失败~~~', e)\n",
    "        print(sql_del)\n",
    "        conn.rollback()\n",
    "\n",
    "    try:\n",
    "        cur.execute(f'ALTER TABLE `{table_name}` AUTO_INCREMENT =1')\n",
    "        cur.executemany(sql_cmd, value_lists)\n",
    "        conn.commit()\n",
    "        print('执行成功！')\n",
    "    except Exception as e:\n",
    "        conn.rollback()\n",
    "        print('执行失败!', e)\n",
    "        print(sql_cmd)\n",
    "\n",
    "        \n",
    "\n",
    "data_storege(df_main, 'ods_zzy_lg_order') # "
   ]
  },
  {
   "cell_type": "code",
   "execution_count": 48,
   "id": "4eb87027",
   "metadata": {
    "ExecuteTime": {
     "end_time": "2023-04-23T16:38:12.330220Z",
     "start_time": "2023-04-23T16:38:12.322656Z"
    }
   },
   "outputs": [],
   "source": [
    "# df_main"
   ]
  },
  {
   "cell_type": "code",
   "execution_count": null,
   "id": "b9130cb1",
   "metadata": {},
   "outputs": [],
   "source": []
  }
 ],
 "metadata": {
  "kernelspec": {
   "display_name": "Python 3 (ipykernel)",
   "language": "python",
   "name": "python3"
  },
  "language_info": {
   "codemirror_mode": {
    "name": "ipython",
    "version": 3
   },
   "file_extension": ".py",
   "mimetype": "text/x-python",
   "name": "python",
   "nbconvert_exporter": "python",
   "pygments_lexer": "ipython3",
   "version": "3.9.13"
  },
  "toc": {
   "base_numbering": 1,
   "nav_menu": {},
   "number_sections": true,
   "sideBar": true,
   "skip_h1_title": false,
   "title_cell": "Table of Contents",
   "title_sidebar": "Contents",
   "toc_cell": false,
   "toc_position": {},
   "toc_section_display": true,
   "toc_window_display": false
  }
 },
 "nbformat": 4,
 "nbformat_minor": 5
}
